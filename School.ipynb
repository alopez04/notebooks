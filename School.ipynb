{
 "metadata": {
  "name": "",
  "signature": "sha256:8e865b8a99440005c16a62e21b89d38b385dfe57dfc243b974ee2aea8e38ecfa"
 },
 "nbformat": 3,
 "nbformat_minor": 0,
 "worksheets": [
  {
   "cells": [
    {
     "cell_type": "code",
     "collapsed": false,
     "input": [
      "%matplotlib inline\n",
      "import pandas as pd, numpy as np, itertools\n",
      "import statsmodels.api as sm"
     ],
     "language": "python",
     "metadata": {},
     "outputs": [],
     "prompt_number": 12
    },
    {
     "cell_type": "heading",
     "level": 1,
     "metadata": {},
     "source": [
      "Prediction of Calls Between Cities"
     ]
    },
    {
     "cell_type": "markdown",
     "metadata": {},
     "source": [
      "The goal of this analysis is to predict the number of phone calls between any two cities within the U.S. that  have a population greater than 50,000."
     ]
    },
    {
     "cell_type": "markdown",
     "metadata": {},
     "source": [
      "### Required Data\n",
      "\n",
      "- Cities\n",
      "- City population\n",
      "- Phone calls between cities\n",
      "- Explanatory variables:\n",
      "    - Distance\n",
      "    - Trade\n",
      "    - more? - asumming there are plenty of other good variables, but keeping it short for simplicities sake"
     ]
    },
    {
     "cell_type": "heading",
     "level": 3,
     "metadata": {},
     "source": [
      "Create the Example Data"
     ]
    },
    {
     "cell_type": "code",
     "collapsed": false,
     "input": [
      "df = pd.DataFrame({'cityA': ['denver', 'denver', 'fort collins,'], 'cityB': ['fort collins', 'seattle', 'seattle']})"
     ],
     "language": "python",
     "metadata": {},
     "outputs": [],
     "prompt_number": 46
    },
    {
     "cell_type": "code",
     "collapsed": true,
     "input": [
      "df['distance'] = [70, 1300, 1200]\n",
      "df['trade'] = [1000, 2000, 500]\n",
      "df['calls'] = [2000, 1500, 500]"
     ],
     "language": "python",
     "metadata": {},
     "outputs": [],
     "prompt_number": 53
    },
    {
     "cell_type": "code",
     "collapsed": false,
     "input": [
      "df"
     ],
     "language": "python",
     "metadata": {},
     "outputs": [
      {
       "html": [
        "<div style=\"max-height:1000px;max-width:1500px;overflow:auto;\">\n",
        "<table border=\"1\" class=\"dataframe\">\n",
        "  <thead>\n",
        "    <tr style=\"text-align: right;\">\n",
        "      <th></th>\n",
        "      <th>cityA</th>\n",
        "      <th>cityB</th>\n",
        "      <th>distance</th>\n",
        "      <th>trade</th>\n",
        "      <th>calls</th>\n",
        "    </tr>\n",
        "  </thead>\n",
        "  <tbody>\n",
        "    <tr>\n",
        "      <th>0</th>\n",
        "      <td>        denver</td>\n",
        "      <td> fort collins</td>\n",
        "      <td>   70</td>\n",
        "      <td> 1000</td>\n",
        "      <td> 2000</td>\n",
        "    </tr>\n",
        "    <tr>\n",
        "      <th>1</th>\n",
        "      <td>        denver</td>\n",
        "      <td>      seattle</td>\n",
        "      <td> 1300</td>\n",
        "      <td> 2000</td>\n",
        "      <td> 1500</td>\n",
        "    </tr>\n",
        "    <tr>\n",
        "      <th>2</th>\n",
        "      <td> fort collins,</td>\n",
        "      <td>      seattle</td>\n",
        "      <td> 1200</td>\n",
        "      <td>  500</td>\n",
        "      <td>  500</td>\n",
        "    </tr>\n",
        "  </tbody>\n",
        "</table>\n",
        "</div>"
       ],
       "metadata": {},
       "output_type": "pyout",
       "prompt_number": 54,
       "text": [
        "           cityA         cityB  distance  trade  calls\n",
        "0         denver  fort collins        70   1000   2000\n",
        "1         denver       seattle      1300   2000   1500\n",
        "2  fort collins,       seattle      1200    500    500"
       ]
      }
     ],
     "prompt_number": 54
    },
    {
     "cell_type": "heading",
     "level": 3,
     "metadata": {},
     "source": [
      "OLS Model with Intercept on Distance and Trade"
     ]
    },
    {
     "cell_type": "code",
     "collapsed": false,
     "input": [
      "X = df[['distance', 'trade']]\n",
      "y = df['calls']\n",
      "X = sm.add_constant(X)\n",
      "est = sm.OLS(y, X).fit()\n",
      "print(est.summary())"
     ],
     "language": "python",
     "metadata": {},
     "outputs": [
      {
       "output_type": "stream",
       "stream": "stdout",
       "text": [
        "                            OLS Regression Results                            \n",
        "==============================================================================\n",
        "Dep. Variable:                  calls   R-squared:                       1.000\n",
        "Model:                            OLS   Adj. R-squared:                    nan\n",
        "Method:                 Least Squares   F-statistic:                     0.000\n",
        "Date:                Sat, 04 Oct 2014   Prob (F-statistic):                nan\n",
        "Time:                        10:26:14   Log-Likelihood:                 82.313\n",
        "No. Observations:                   3   AIC:                            -158.6\n",
        "Df Residuals:                       0   BIC:                            -161.3\n",
        "Df Model:                           2                                         \n",
        "==============================================================================\n",
        "                 coef    std err          t      P>|t|      [95.0% Conf. Int.]\n",
        "------------------------------------------------------------------------------\n",
        "const       1336.6762        inf          0        nan           nan       nan\n",
        "distance      -1.0029        inf         -0        nan           nan       nan\n",
        "trade          0.7335        inf          0        nan           nan       nan\n",
        "==============================================================================\n",
        "Omnibus:                          nan   Durbin-Watson:                   1.000\n",
        "Prob(Omnibus):                    nan   Jarque-Bera (JB):                0.281\n",
        "Skew:                           0.000   Prob(JB):                        0.869\n",
        "Kurtosis:                       1.500   Cond. No.                     3.80e+03\n",
        "==============================================================================\n",
        "\n",
        "Warnings:\n",
        "[1] The condition number is large, 3.8e+03. This might indicate that there are\n",
        "strong multicollinearity or other numerical problems.\n"
       ]
      }
     ],
     "prompt_number": 76
    },
    {
     "cell_type": "heading",
     "level": 5,
     "metadata": {},
     "source": [
      "As you can see, it is not very exciting...nevertheless, we now have model with which we can predict"
     ]
    },
    {
     "cell_type": "code",
     "collapsed": false,
     "input": [
      "#Create the data\n",
      "df_predict = pd.DataFrame({'cityA': ['lakewood', 'missoula', 'omaha'], 'cityB': ['denver', 'denver', 'denver'], 'distance': [5, 900, 550], 'trade': [1500, 100, 700]})\n",
      "df_predict[['distance', 'trade']]"
     ],
     "language": "python",
     "metadata": {},
     "outputs": [
      {
       "html": [
        "<div style=\"max-height:1000px;max-width:1500px;overflow:auto;\">\n",
        "<table border=\"1\" class=\"dataframe\">\n",
        "  <thead>\n",
        "    <tr style=\"text-align: right;\">\n",
        "      <th></th>\n",
        "      <th>distance</th>\n",
        "      <th>trade</th>\n",
        "    </tr>\n",
        "  </thead>\n",
        "  <tbody>\n",
        "    <tr>\n",
        "      <th>0</th>\n",
        "      <td>   5</td>\n",
        "      <td> 1500</td>\n",
        "    </tr>\n",
        "    <tr>\n",
        "      <th>1</th>\n",
        "      <td> 900</td>\n",
        "      <td>  100</td>\n",
        "    </tr>\n",
        "    <tr>\n",
        "      <th>2</th>\n",
        "      <td> 550</td>\n",
        "      <td>  700</td>\n",
        "    </tr>\n",
        "  </tbody>\n",
        "</table>\n",
        "</div>"
       ],
       "metadata": {},
       "output_type": "pyout",
       "prompt_number": 83,
       "text": [
        "   distance  trade\n",
        "0         5   1500\n",
        "1       900    100\n",
        "2       550    700"
       ]
      }
     ],
     "prompt_number": 83
    },
    {
     "cell_type": "heading",
     "level": 3,
     "metadata": {},
     "source": [
      "Now Conduct the Prediction"
     ]
    },
    {
     "cell_type": "code",
     "collapsed": false,
     "input": [
      "predict = est.predict(sm.add_constant(df_predict[['distance', 'trade']], prepend = True))\n",
      "df_predict['calls'] = predict"
     ],
     "language": "python",
     "metadata": {},
     "outputs": [],
     "prompt_number": 86
    },
    {
     "cell_type": "code",
     "collapsed": false,
     "input": [
      "#Print the Results\n",
      "df_predict"
     ],
     "language": "python",
     "metadata": {},
     "outputs": [
      {
       "html": [
        "<div style=\"max-height:1000px;max-width:1500px;overflow:auto;\">\n",
        "<table border=\"1\" class=\"dataframe\">\n",
        "  <thead>\n",
        "    <tr style=\"text-align: right;\">\n",
        "      <th></th>\n",
        "      <th>cityA</th>\n",
        "      <th>cityB</th>\n",
        "      <th>distance</th>\n",
        "      <th>trade</th>\n",
        "      <th>calls</th>\n",
        "    </tr>\n",
        "  </thead>\n",
        "  <tbody>\n",
        "    <tr>\n",
        "      <th>0</th>\n",
        "      <td> lakewood</td>\n",
        "      <td> denver</td>\n",
        "      <td>   5</td>\n",
        "      <td> 1500</td>\n",
        "      <td> 2431.948424</td>\n",
        "    </tr>\n",
        "    <tr>\n",
        "      <th>1</th>\n",
        "      <td> missoula</td>\n",
        "      <td> denver</td>\n",
        "      <td> 900</td>\n",
        "      <td>  100</td>\n",
        "      <td>  507.449857</td>\n",
        "    </tr>\n",
        "    <tr>\n",
        "      <th>2</th>\n",
        "      <td>    omaha</td>\n",
        "      <td> denver</td>\n",
        "      <td> 550</td>\n",
        "      <td>  700</td>\n",
        "      <td> 1298.567335</td>\n",
        "    </tr>\n",
        "  </tbody>\n",
        "</table>\n",
        "</div>"
       ],
       "metadata": {},
       "output_type": "pyout",
       "prompt_number": 87,
       "text": [
        "      cityA   cityB  distance  trade        calls\n",
        "0  lakewood  denver         5   1500  2431.948424\n",
        "1  missoula  denver       900    100   507.449857\n",
        "2     omaha  denver       550    700  1298.567335"
       ]
      }
     ],
     "prompt_number": 87
    },
    {
     "cell_type": "markdown",
     "metadata": {},
     "source": [
      "### Discussion\n",
      "\n",
      "Using real data, the model could become more accurate, but care would have to be taken to not introduce false predictors. I would assume that including airline passengers between cities would help increase the explanatory power of the model as it would include another measure of connectivity. "
     ]
    },
    {
     "cell_type": "code",
     "collapsed": false,
     "input": [],
     "language": "python",
     "metadata": {},
     "outputs": []
    }
   ],
   "metadata": {}
  }
 ]
}